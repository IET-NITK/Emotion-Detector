{
 "cells": [
  {
   "cell_type": "code",
   "execution_count": 17,
   "metadata": {},
   "outputs": [],
   "source": [
    "from PIL import Image\n",
    "from keras.models import load_model\n",
    "import numpy as np\n",
    "\n",
    "#converting to grayscale\n",
    "img = Image.open('./images/test.jpg').convert('LA')\n",
    "#resize the image\n",
    "img = img.resize((48,48),Image.ANTIALIAS)\n",
    "img.save('/home/sanjay/Desktop/greyscale1.png')\n",
    "pixel = np.array(img)\n",
    "pixel=pixel.reshape(-1,48,48,1)"
   ]
  },
  {
   "cell_type": "code",
   "execution_count": 18,
   "metadata": {},
   "outputs": [],
   "source": [
    "#loading model\n",
    "model=load_model('cnn_model.h5')"
   ]
  },
  {
   "cell_type": "code",
   "execution_count": 21,
   "metadata": {},
   "outputs": [
    {
     "ename": "SyntaxError",
     "evalue": "invalid syntax (<ipython-input-21-d55137bd794a>, line 4)",
     "output_type": "error",
     "traceback": [
      "\u001b[0;36m  File \u001b[0;32m\"<ipython-input-21-d55137bd794a>\"\u001b[0;36m, line \u001b[0;32m4\u001b[0m\n\u001b[0;31m    i,j in enumerate(ans):\u001b[0m\n\u001b[0m                          ^\u001b[0m\n\u001b[0;31mSyntaxError\u001b[0m\u001b[0;31m:\u001b[0m invalid syntax\n"
     ]
    }
   ],
   "source": [
    "#predict\n",
    "ans=model.predict(pixel)\n",
    "\n",
    "i=0\n",
    "print(\"probilitity percentage of emotions of image\",i)\n",
    "print(\"Angry   :\",j[0]*100)\n",
    "print(\"Disgust :\",j[1]*100)\n",
    "print(\"Fear    :\",j[2]*100)\n",
    "print(\"Happy   :\",j[3]*100)\n",
    "print(\"Sad     :\",j[4]*100)\n",
    "print(\"Surprise:\",j[5]*100)\n",
    "print(\"Neutral :\",j[6]*100)\n",
    "    "
   ]
  },
  {
   "cell_type": "code",
   "execution_count": null,
   "metadata": {},
   "outputs": [],
   "source": []
  }
 ],
 "metadata": {
  "kernelspec": {
   "display_name": "Python 3",
   "language": "python",
   "name": "python3"
  },
  "language_info": {
   "codemirror_mode": {
    "name": "ipython",
    "version": 3
   },
   "file_extension": ".py",
   "mimetype": "text/x-python",
   "name": "python",
   "nbconvert_exporter": "python",
   "pygments_lexer": "ipython3",
   "version": "3.6.4"
  }
 },
 "nbformat": 4,
 "nbformat_minor": 2
}
