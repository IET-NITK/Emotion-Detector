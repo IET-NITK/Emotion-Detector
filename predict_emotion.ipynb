{
 "cells": [
  {
   "cell_type": "code",
   "execution_count": 29,
   "metadata": {},
   "outputs": [],
   "source": [
    "from PIL import Image\n",
    "from keras.models import load_model\n",
    "import numpy as np\n",
    "\n",
    "#converting to grayscale\n",
    "img = Image.open('./images/angry.jpg').convert('LA')\n",
    "#resize the image\n",
    "img = img.resize((48,48),Image.ANTIALIAS)\n",
    "img.save('/home/sanjay/Desktop/greyscale1.png')\n",
    "pixel = np.array(img)\n",
    "pixel=pixel.reshape(-1,48,48,1)"
   ]
  },
  {
   "cell_type": "code",
   "execution_count": 30,
   "metadata": {},
   "outputs": [],
   "source": [
    "#loading model\n",
    "model=load_model('cnn_model.h5')"
   ]
  },
  {
   "cell_type": "code",
   "execution_count": 31,
   "metadata": {},
   "outputs": [
    {
     "name": "stdout",
     "output_type": "stream",
     "text": [
      "probilitity percentage of emotions of image 0\n",
      "Angry   : 13.622446358203888\n",
      "Disgust : 1.3266132213175297\n",
      "Fear    : 8.770187199115753\n",
      "Happy   : 32.9598069190979\n",
      "Sad     : 10.679932683706284\n",
      "Surprise: 15.119877457618713\n",
      "Neutral : 5.04143089056015\n"
     ]
    }
   ],
   "source": [
    "#predict\n",
    "ans=model.predict(pixel)\n",
    "\n",
    "i=0\n",
    "print(\"probilitity percentage of emotions of image\",i)\n",
    "print(\"Angry   :\",j[0]*100)\n",
    "print(\"Disgust :\",j[1]*100)\n",
    "print(\"Fear    :\",j[2]*100)\n",
    "print(\"Happy   :\",j[3]*100)\n",
    "print(\"Sad     :\",j[4]*100)\n",
    "print(\"Surprise:\",j[5]*100)\n",
    "print(\"Neutral :\",j[6]*100)\n",
    "    "
   ]
  },
  {
   "cell_type": "code",
   "execution_count": null,
   "metadata": {},
   "outputs": [],
   "source": []
  }
 ],
 "metadata": {
  "kernelspec": {
   "display_name": "Python 3",
   "language": "python",
   "name": "python3"
  },
  "language_info": {
   "codemirror_mode": {
    "name": "ipython",
    "version": 3
   },
   "file_extension": ".py",
   "mimetype": "text/x-python",
   "name": "python",
   "nbconvert_exporter": "python",
   "pygments_lexer": "ipython3",
   "version": "3.6.4"
  }
 },
 "nbformat": 4,
 "nbformat_minor": 2
}
